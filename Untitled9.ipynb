{
  "nbformat": 4,
  "nbformat_minor": 0,
  "metadata": {
    "colab": {
      "name": "Untitled9.ipynb",
      "provenance": [],
      "collapsed_sections": [],
      "authorship_tag": "ABX9TyMEjZeHiDNF8WaD88JrAMmV",
      "include_colab_link": true
    },
    "kernelspec": {
      "name": "python3",
      "display_name": "Python 3"
    },
    "language_info": {
      "name": "python"
    }
  },
  "cells": [
    {
      "cell_type": "markdown",
      "metadata": {
        "id": "view-in-github",
        "colab_type": "text"
      },
      "source": [
        "<a href=\"https://colab.research.google.com/github/canerborekci/CS50/blob/master/Untitled9.ipynb\" target=\"_parent\"><img src=\"https://colab.research.google.com/assets/colab-badge.svg\" alt=\"Open In Colab\"/></a>"
      ]
    },
    {
      "cell_type": "code",
      "metadata": {
        "id": "dO7gIhSVNRiQ"
      },
      "source": [
        "import cv2\n",
        "import imutils\n",
        "import numpy as np\n",
        "import pytesseract\n",
        "from PIL import Image\n",
        "from picamera.array import PiRGBArray\n",
        "from picamera import PiCamera\n",
        "import smtplib\n",
        "import RPi.GPIO as GPIO\n",
        "import time\n",
        "\n",
        "\n",
        "def callback(channel):\n",
        "    global detectPlate\n",
        "    if GPIO.input(channel):\n",
        "        detectPlate = True\n",
        "    else:\n",
        "        detectPlate = False\n",
        "\n",
        "\n",
        "def main():\n",
        "    global camera,detectPlate\n",
        "    rawCapture = PiRGBArray(camera, size=(640, 480))\n",
        "    for frame in camera.capture_continuous(rawCapture, format=\"bgr\", use_video_port=True):\n",
        "        image = frame.array\n",
        "        cv2.imshow(\"Frame\", image)\n",
        "        key = cv2.waitKey(1) & 0xFF\n",
        "        rawCapture.truncate(0)\n",
        "        if detectPlate == True: \n",
        "            detectPlate = False\n",
        "            \n",
        "            gray = cv2.cvtColor(image, cv2.COLOR_BGR2GRAY)\n",
        "            gray = cv2.bilateralFilter(\n",
        "                gray, 11, 17, 17)  \n",
        "            edged = cv2.Canny(gray, 30, 200)  \n",
        "            cnts = cv2.findContours(\n",
        "                edged.copy(), cv2.RETR_TREE,              cv2.CHAIN_APPROX_SIMPLE)\n",
        "            cnts = imutils.grab_contours(cnts)\n",
        "            cnts = sorted(cnts, key=cv2.contourArea, reverse=True)[:10]\n",
        "            screenCnt = None\n",
        "            for c in cnts:\n",
        "                peri = cv2.arcLength(c, True)\n",
        "                approx = cv2.approxPolyDP(c, 0.018 * peri, True)\n",
        "                if len(approx) == 4:\n",
        "                    screenCnt = approx\n",
        "                    break\n",
        "            if screenCnt is None:\n",
        "                detected = 0\n",
        "                print(\"Görselde hiç bir plaka bulunamadı\")\n",
        "            else:\n",
        "                detected = 1\n",
        "            if detected == 1:\n",
        "                cv2.drawContours(image, [screenCnt], -1, (0, 255, 0), 3)\n",
        "            mask = np.zeros(gray.shape, np.uint8)\n",
        "            new_image = cv2.drawContours(mask, [screenCnt], 0, 255, -1,)\n",
        "            new_image = cv2.bitwise_and(image, image, mask=mask)\n",
        "            (x, y) = np.where(mask == 255)\n",
        "            (topx, topy) = (np.min(x), np.min(y))\n",
        "            (bottomx, bottomy) = (np.max(x), np.max(y))\n",
        "            Cropped = gray[topx:bottomx+1, topy:bottomy+1]\n",
        "            text = pytesseract.image_to_string(Cropped, config='--psm 11')\n",
        "            print(\"Tespit Edilen Plaka:\", text)\n",
        "            #vahap.tecim@deu.edu.tr\n",
        "            server.sendmail(\"caner.borekcii@gmail.com\",\n",
        "                            \"canerborekci@yandex.com.tr\", \"Plakasi verilen arac yuksek gurultu yapti.\\n\"+text)\n",
        "            cv2.imshow(\"Frame\", image)\n",
        "            cv2.imshow('Cropped', Cropped)\n",
        "            cv2.waitKey(0)\n",
        "            # break\n",
        "    cv2.destroyAllWindows()"
      ],
      "execution_count": null,
      "outputs": []
    }
  ]
}